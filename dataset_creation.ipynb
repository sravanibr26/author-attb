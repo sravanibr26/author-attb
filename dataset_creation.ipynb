{
  "nbformat": 4,
  "nbformat_minor": 0,
  "metadata": {
    "colab": {
      "provenance": []
    },
    "kernelspec": {
      "name": "python3",
      "display_name": "Python 3"
    },
    "language_info": {
      "name": "python"
    },
    "gpuClass": "standard"
  },
  "cells": [
    {
      "cell_type": "code",
      "execution_count": null,
      "metadata": {
        "colab": {
          "base_uri": "https://localhost:8080/"
        },
        "id": "tY3Yu2N109Zg",
        "outputId": "8cb1f700-919e-4c49-f8be-d6cfd1d238e6"
      },
      "outputs": [
        {
          "output_type": "stream",
          "name": "stderr",
          "text": [
            "[nltk_data] Downloading package punkt to /root/nltk_data...\n",
            "[nltk_data]   Unzipping tokenizers/punkt.zip.\n"
          ]
        },
        {
          "output_type": "execute_result",
          "data": {
            "text/plain": [
              "True"
            ]
          },
          "metadata": {},
          "execution_count": 1
        }
      ],
      "source": [
        "from nltk import tokenize\n",
        "import numpy as np\n",
        "import random\n",
        "import pandas as pd\n",
        "import nltk\n",
        "nltk.download('punkt')"
      ]
    },
    {
      "cell_type": "code",
      "source": [
        "def split_text(filepath, min_char):\n",
        "    \"\"\"Convert text file to a list of sentences.\n",
        "    \n",
        "    Args:\n",
        "    filepath: string. Filepath of text file.\n",
        "    min_char: int. Minimum number of characters required for a sentence to be\n",
        "    included.\n",
        "\n",
        "    Returns:\n",
        "    sentences: list of strings. List of sentences containined in the text file.\n",
        "    \"\"\"\n",
        "    # Load data into string variable and remove new line characters\n",
        "    file = open(filepath, \"r\", encoding=\"utf8\")\n",
        "    text = file.read().replace('\\n', ' ')\n",
        "    text = text.replace('.”', '”.').replace('.\"', '\".').replace('?”', '”?').replace('!”', '”!')\n",
        "    text = text.replace('--', ' ').replace('. . .', '').replace('_', '')\n",
        "    file.close()\n",
        "    \n",
        "    # Split text into a list of sentences\n",
        "    sentences = tokenize.sent_tokenize(text)\n",
        "    \n",
        "    # Remove sentences that are less than min_char long\n",
        "    sentences = [sent for sent in sentences if len(sent) >= min_char]\n",
        "\n",
        "    return list(sentences)"
      ],
      "metadata": {
        "id": "ClSGXEIE1H3p"
      },
      "execution_count": null,
      "outputs": []
    },
    {
      "cell_type": "code",
      "source": [
        "# Set parameter values\n",
        "min_char = 5\n",
        "\n",
        "# Create lists\n",
        "bram_stoker = split_text('/content/Personal_reminiscences_of_Henry_Irving.txt', min_char = min_char)\\\n",
        "              + split_text('/content/The_Jewel_of_Seven_Stars.txt', min_char = min_char)\\\n",
        "              + split_text('/content/The_Lady_of_the_Shroud.txt', min_char = min_char)\\\n",
        "              + split_text('/content/The_Mystery_of_the_Sea.txt', min_char = min_char)\\\n",
        "              + split_text('/content/The_Snakes_Pass .txt', min_char = min_char)\n",
        "\n",
        "charles_dickens = split_text('/content/A_Childs_Dream_of_a_Star.txt', min_char = min_char)\\\n",
        "                 + split_text('/content/A_Childs_History_of_England.txt', min_char = min_char)\\\n",
        "                 + split_text('/content/A_Tale_of_Two_Cities.txt', min_char = min_char)\\\n",
        "                 + split_text('/content/Bleak_House.txt', min_char = min_char)\\\n",
        "                 + split_text('/content/The_Battle_of_Life.txt', min_char = min_char)\n",
        "\n",
        "jane_austen = split_text('/content/Emma.txt', min_char = min_char)\\\n",
        "              + split_text('/content/Lady_Susan.txt', min_char = min_char)\\\n",
        "              + split_text('/content/Love_and_Freindship_[sic].txt', min_char = min_char)\\\n",
        "              + split_text('/content/Pride_and_Prejudice.txt', min_char = min_char)\\\n",
        "              + split_text('/content/Sense_and_Sensibility.txt', min_char = min_char)\n",
        "\n",
        "jonathan_swift = split_text('/content/A_Modest_Proposal.txt', min_char = min_char)\\\n",
        "                 + split_text('/content/A_Tale_of_a_Tub.txt', min_char = min_char)\\\n",
        "                 + split_text('/content/Gullivers_Travels.txt', min_char = min_char)\\\n",
        "                 + split_text('/content/The_Journal_to_Stella.txt', min_char = min_char)\\\n",
        "                 + split_text('/content/Three_Sermons_Three_Prayers.txt', min_char = min_char)\n",
        "\n",
        "#lewis_caroll = split_text('/content/A_Tangled_Tale.txt', min_char = min_char)\\\n",
        "#              + split_text('/content/Alices_Adventures_in_Wonderland.txt', min_char = min_char)\\\n",
        "#              + split_text('/content/Feeding_the_Mind .txt', min_char = min_char)\\\n",
        "#              + split_text('/content/The_Game_of_Logic.txt', min_char = min_char)\\\n",
        "#              + split_text('/content/The_Hunting_of_the_Snark.txt', min_char = min_char)\n",
        "\n",
        "mark_twain = split_text('/content/A_Dogs_Tale.txt', min_char = min_char)\\\n",
        "             + split_text('/content/A_Double_Barrelled_Detective_Story.txt', min_char = min_char)\\\n",
        "             + split_text('/content/Adventures_of_Huckleberry_Finn.txt', min_char = min_char)\\\n",
        "             + split_text('/content/Europe_and_elsewhere.txt', min_char = min_char)\\\n",
        "             + split_text('/content/The_Adventures_of_Tom_Sawyer.txt', min_char = min_char)\n",
        "\n",
        "oscar_wilde = split_text('/content/A_House_of_Pomegranates.txt', min_char = min_char)\\\n",
        "              + split_text('/content/An_Ideal_Husband.txt', min_char = min_char)\\\n",
        "              + split_text('/content/Intentions.txt', min_char = min_char)\\\n",
        "              + split_text('/content/A_Woman_of_no_Importance.txt', min_char = min_char)\\\n",
        "              + split_text('/content/The_Importance_of_Being_Earnest.txt', min_char = min_char)\n",
        "\n",
        "robert_louis_stevenson = split_text('/content/An_Inland_Voyage.txt', min_char = min_char)\\\n",
        "                         + split_text('/content/Kidnapped.txt', min_char = min_char)\\\n",
        "                         + split_text('/content/Memoir_of_Fleeming_Jenkin.txt', min_char = min_char)\\\n",
        "                         + split_text('/content/Memories_and_Portraits.txt', min_char = min_char)\\\n",
        "                         + split_text('/content/New_Arabian_Nights.txt', min_char = min_char)\n",
        "\n",
        "rudyard_kipling = split_text('/content/The_City_of_Dreadful_Night.txt', min_char = min_char)\\\n",
        "                  + split_text('/content/The_Days_Work.txt', min_char = min_char)\\\n",
        "                  + split_text('/content/The_Graves_of_the_Fallen.txt', min_char = min_char)\\\n",
        "                  + split_text('/content/The_Jungle_Book.txt', min_char = min_char)\\\n",
        "                  + split_text('/content/The_Kings_Pilgrimage.txt', min_char = min_char)\n",
        "\n",
        "william_shakespeare = split_text('/content/Julius_Ceaser.txt', min_char = min_char)\\\n",
        "                      + split_text('/content/Antony_and_Cleopatra.txt', min_char = min_char)\\\n",
        "                      + split_text('/content/Romeo_and_Juliet.txt', min_char = min_char)\\\n",
        "                      + split_text('/content/As_You_Like_It.txt', min_char = min_char)\\\n",
        "                      + split_text('/content/The_Comedy_of_Errors.txt', min_char = min_char)"
      ],
      "metadata": {
        "id": "mxvPskKu2kx-"
      },
      "execution_count": null,
      "outputs": []
    },
    {
      "cell_type": "code",
      "source": [
        "# Print length of each list\n",
        "\n",
        "text_dict = {'Bram Stoker': bram_stoker, 'Charles Dickens': charles_dickens, 'Jane Austen': jane_austen,'Jonathan Swift': jonathan_swift,'Mark_Twain': mark_twain,'Oscar Wilde': oscar_wilde,'Robert Louis Stevenson': robert_louis_stevenson,'Rudyard Kipling': rudyard_kipling,'William Shakespeare': william_shakespeare}\n",
        "\n",
        "for key in text_dict.keys():\n",
        "    print(key, ':', len(text_dict[key]))"
      ],
      "metadata": {
        "colab": {
          "base_uri": "https://localhost:8080/"
        },
        "id": "8_gRrqD8IOKp",
        "outputId": "59923d67-a607-47a1-c9af-54d713580280"
      },
      "execution_count": null,
      "outputs": [
        {
          "output_type": "stream",
          "name": "stdout",
          "text": [
            "Bram Stoker : 32613\n",
            "Charles Dickens : 35107\n",
            "Jane Austen : 20611\n",
            "Jonathan Swift : 13565\n",
            "Mark_Twain : 16951\n",
            "Oscar Wilde : 14703\n",
            "Robert Louis Stevenson : 14699\n",
            "Rudyard Kipling : 11218\n",
            "William Shakespeare : 13521\n"
          ]
        }
      ]
    },
    {
      "cell_type": "code",
      "source": [
        "# Set random seed\n",
        "np.random.seed(1)\n",
        "\n",
        "# Set length parameter\n",
        "max_len = 8500\n",
        "\n",
        "# Select sentences\n",
        "names = [bram_stoker, charles_dickens, jane_austen, jonathan_swift, mark_twain, oscar_wilde, robert_louis_stevenson, rudyard_kipling, william_shakespeare]\n",
        "combined = []\n",
        "\n",
        "for name in names:\n",
        "    name = np.random.choice(name, max_len, replace = False)\n",
        "    combined += list(name)\n",
        "\n",
        "print('The length of the combined list is:', len(combined))"
      ],
      "metadata": {
        "colab": {
          "base_uri": "https://localhost:8080/"
        },
        "id": "qNcOngohHhk1",
        "outputId": "cd8a0b4c-b791-48a4-be35-c88c757a205a"
      },
      "execution_count": null,
      "outputs": [
        {
          "output_type": "stream",
          "name": "stdout",
          "text": [
            "The length of the combined list is: 76500\n"
          ]
        }
      ]
    },
    {
      "cell_type": "code",
      "source": [
        "labels = ['Bram Stoker']*max_len + ['Charles Dickens']*max_len + ['Jane Austen']*max_len + ['Jonathan Swift']*max_len + ['Mark_Twain']*max_len + ['Oscar Wilde']*max_len + ['Robert Louis Stevenson']*max_len + ['Rudyard Kipling']*max_len + ['William Shakespeare']*max_len\n",
        "\n",
        "print('The length of the labels list is:', len(labels))"
      ],
      "metadata": {
        "colab": {
          "base_uri": "https://localhost:8080/"
        },
        "id": "qo8nR39rQIQp",
        "outputId": "94082346-addf-454a-f7c8-ec6ec7e9cae3"
      },
      "execution_count": null,
      "outputs": [
        {
          "output_type": "stream",
          "name": "stdout",
          "text": [
            "The length of the labels list is: 76500\n"
          ]
        }
      ]
    },
    {
      "cell_type": "code",
      "source": [
        "# Set random seed\n",
        "random.seed(3)\n",
        "\n",
        "# Randomly shuffle data\n",
        "zipped = list(zip(combined, labels))\n",
        "random.shuffle(zipped)\n",
        "combined, labels = zip(*zipped)"
      ],
      "metadata": {
        "id": "m-WkMJ29SKxg"
      },
      "execution_count": null,
      "outputs": []
    },
    {
      "cell_type": "code",
      "source": [
        "# Create pandas dataframe\n",
        "out_data = pd.DataFrame()\n",
        "out_data['text'] = combined\n",
        "out_data['author'] = labels\n",
        "\n",
        "print(out_data.head())"
      ],
      "metadata": {
        "colab": {
          "base_uri": "https://localhost:8080/"
        },
        "id": "cZ23SiWISP4T",
        "outputId": "bc836337-312c-4ef5-b5d3-2b811332d3d1"
      },
      "execution_count": null,
      "outputs": [
        {
          "output_type": "stream",
          "name": "stdout",
          "text": [
            "                                                text               author\n",
            "0      The slip sir, the slip; can you not conceive?  William Shakespeare\n",
            "1             It might be necessary for me to speak.          Bram Stoker\n",
            "2                             It is a pretty sight”!      Charles Dickens\n",
            "3     The lawyer looked appealingly around the room.      Rudyard Kipling\n",
            "4  Here are such strange things that, if I am not...          Bram Stoker\n"
          ]
        }
      ]
    },
    {
      "cell_type": "code",
      "source": [
        "# Export as a csv file\n",
        "out_data.to_csv('author_data1.csv', index=False)"
      ],
      "metadata": {
        "id": "71_OyRh_SV-K"
      },
      "execution_count": null,
      "outputs": []
    }
  ]
}